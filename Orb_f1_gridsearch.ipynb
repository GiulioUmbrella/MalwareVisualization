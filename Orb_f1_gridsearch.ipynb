{
 "cells": [
  {
   "cell_type": "code",
   "execution_count": 1,
   "metadata": {},
   "outputs": [],
   "source": [
    "import os\n",
    "import cv2\n",
    "import numpy as np\n",
    "import matplotlib.pyplot as plt\n",
    "from PIL import Image\n",
    "from sklearn.model_selection import train_test_split\n",
    "from sklearn.ensemble import RandomForestClassifier\n",
    "%matplotlib inline"
   ]
  },
  {
   "cell_type": "code",
   "execution_count": 2,
   "metadata": {},
   "outputs": [],
   "source": [
    "# Load\n",
    "X = np.load('/home/filsave/malviso/X.npy', allow_pickle=True)\n",
    "y = np.load('/home/filsave/malviso/y.npy', allow_pickle=True)"
   ]
  },
  {
   "cell_type": "code",
   "execution_count": 3,
   "metadata": {},
   "outputs": [],
   "source": [
    "# Split data into training and test sets\n",
    "X_train, X_test, y_train, y_test = train_test_split(X, y, test_size=0.2, random_state=42)"
   ]
  },
  {
   "cell_type": "code",
   "execution_count": 4,
   "metadata": {},
   "outputs": [],
   "source": [
    "def get_values(nfeatures, X_train, X_test, y_train, y_test):\n",
    "    detector = cv2.ORB_create(nfeatures)\n",
    "\n",
    "    total_kps_train= []\n",
    "    total_des_train= []\n",
    "    total_kps_test= []\n",
    "    total_des_test= []\n",
    "\n",
    "    for image in X_train:\n",
    "        query_kps, query_des = detector.detectAndCompute(image, None)\n",
    "        total_kps_train.append(query_kps)\n",
    "        total_des_train.append(query_des)\n",
    "\n",
    "    for image in X_test:\n",
    "        query_kps, query_des = detector.detectAndCompute(image, None)\n",
    "        total_kps_test.append(query_kps)\n",
    "        total_des_test.append(query_des)\n",
    "\n",
    "    null_indexes_train = []\n",
    "\n",
    "    for i,e in enumerate(total_des_train):\n",
    "        if e is None:\n",
    "            null_indexes_train.append(i)\n",
    "\n",
    "    total_des_train = np.delete(total_des_train, null_indexes_train).tolist()\n",
    "    y_train = np.delete(y_train,null_indexes_train).tolist()\n",
    "\n",
    "    null_indexes_test = []\n",
    "\n",
    "    for i,e in enumerate(total_des_test):\n",
    "        if e is None:\n",
    "            null_indexes_test.append(i)\n",
    "\n",
    "    total_des_test = np.delete(total_des_test, null_indexes_test).tolist() \n",
    "    y_test = np.delete(y_test,null_indexes_test).tolist()\n",
    "\n",
    "    max0 = 0\n",
    "    for des in total_des_train:\n",
    "        if des is not None:\n",
    "            if des.shape[0] > max0:\n",
    "                max0 = des.shape[0]\n",
    "\n",
    "    max1=0\n",
    "    for des in total_des_test:\n",
    "        if des is not None:\n",
    "            if des.shape[0] > max1:\n",
    "                max1 = des.shape[0]\n",
    "        \n",
    "    if max1 > max0:\n",
    "        max0=max1\n",
    "\n",
    "    i = 0\n",
    "    for des in total_des_train:\n",
    "        padding_to_add = max0 - des.shape[0]\n",
    "        if padding_to_add != 0:\n",
    "            pad_list = []\n",
    "            for k in range(32):\n",
    "                pad_list.append(0)\n",
    "            for j in range(padding_to_add):\n",
    "                total_des_train[i] = np.append(total_des_train[i], pad_list)\n",
    "            total_des_train[i] = np.array(total_des_train[i]).reshape(max0,32)\n",
    "        i += 1\n",
    "\n",
    "    i = 0\n",
    "    for des in total_des_test:\n",
    "        padding_to_add = max0 - des.shape[0]\n",
    "        if padding_to_add != 0:\n",
    "            pad_list = []\n",
    "            for k in range(32):\n",
    "                pad_list.append(0)\n",
    "            for j in range(padding_to_add):\n",
    "                total_des_test[i] = np.append(total_des_test[i], pad_list)\n",
    "            total_des_test[i] = np.array(total_des_test[i]).reshape(max0,32)\n",
    "        i += 1\n",
    "\n",
    "    i = 0\n",
    "    for des in total_des_train:\n",
    "        total_des_train[i] = np.hstack(des)\n",
    "        i += 1\n",
    "\n",
    "    i = 0\n",
    "    for des in total_des_test:\n",
    "        total_des_test[i] = np.hstack(des)\n",
    "        i += 1\n",
    "\n",
    "    return total_des_train, total_des_test, y_train, y_test"
   ]
  },
  {
   "cell_type": "code",
   "execution_count": 5,
   "metadata": {},
   "outputs": [],
   "source": [
    "total_des_train, total_des_test , y_train, y_test = get_values(33, X_train, X_test, y_train, y_test) "
   ]
  },
  {
   "cell_type": "code",
   "execution_count": 6,
   "metadata": {},
   "outputs": [],
   "source": [
    "from sklearn.model_selection import GridSearchCV, cross_val_score\n",
    "from sklearn.ensemble import RandomForestClassifier\n",
    "from sklearn.metrics import make_scorer, f1_score\n",
    "import matplotlib.pyplot as plt\n",
    "\n",
    "# Define the parameters to search\n",
    "param_grid = {\n",
    "    'n_estimators': [100, 200, 300],\n",
    "    'max_depth': [5, 10, 15, None],\n",
    "    'min_samples_split': [2, 4, 8],\n",
    "    'min_samples_leaf': [1, 2, 4]\n",
    "}\n",
    "\n",
    "# Create an instance of the RandomForestClassifier\n",
    "clf = RandomForestClassifier(random_state=42)\n",
    "\n",
    "# Create an instance of GridSearchCV \n",
    "f1_scorer = make_scorer(f1_score, pos_label=1)\n",
    "grid_search = GridSearchCV(clf, param_grid, cv=10, scoring=f1_scorer)\n",
    "\n",
    "# Fit the grid search to the data\n",
    "grid_search.fit(total_des_train, y_train)\n",
    "\n",
    "# Get the best parameters\n",
    "best_params = grid_search.best_params_\n",
    "\n",
    "# Get the best classifier\n",
    "best_clf = grid_search.best_estimator_"
   ]
  },
  {
   "cell_type": "code",
   "execution_count": 7,
   "metadata": {},
   "outputs": [
    {
     "name": "stdout",
     "output_type": "stream",
     "text": [
      "Accuracy: 0.7596774193548388\n"
     ]
    }
   ],
   "source": [
    "from sklearn.metrics import f1_score\n",
    "\n",
    "# Predict using the best classifier\n",
    "y_pred = best_clf.predict(total_des_test)\n",
    "\n",
    "# Calculate the accuracy of the predictions\n",
    "f1_accuracy = f1_score(y_test, y_pred)\n",
    "print(\"Accuracy:\", f1_accuracy)"
   ]
  },
  {
   "cell_type": "code",
   "execution_count": 8,
   "metadata": {},
   "outputs": [],
   "source": [
    "# Print the f1 score"
   ]
  },
  {
   "cell_type": "code",
   "execution_count": 9,
   "metadata": {},
   "outputs": [
    {
     "data": {
      "text/plain": [
       "{'max_depth': 15,\n",
       " 'min_samples_leaf': 1,\n",
       " 'min_samples_split': 4,\n",
       " 'n_estimators': 300}"
      ]
     },
     "execution_count": 9,
     "metadata": {},
     "output_type": "execute_result"
    }
   ],
   "source": [
    "best_params"
   ]
  },
  {
   "cell_type": "code",
   "execution_count": 10,
   "metadata": {},
   "outputs": [
    {
     "data": {
      "text/plain": [
       "RandomForestClassifier(bootstrap=True, ccp_alpha=0.0, class_weight=None,\n",
       "                       criterion='gini', max_depth=15, max_features='auto',\n",
       "                       max_leaf_nodes=None, max_samples=None,\n",
       "                       min_impurity_decrease=0.0, min_impurity_split=None,\n",
       "                       min_samples_leaf=1, min_samples_split=4,\n",
       "                       min_weight_fraction_leaf=0.0, n_estimators=300,\n",
       "                       n_jobs=None, oob_score=False, random_state=42, verbose=0,\n",
       "                       warm_start=False)"
      ]
     },
     "execution_count": 10,
     "metadata": {},
     "output_type": "execute_result"
    }
   ],
   "source": [
    "best_clf"
   ]
  }
 ],
 "metadata": {
  "kernelspec": {
   "display_name": "Python 3",
   "language": "python",
   "name": "python3"
  },
  "language_info": {
   "codemirror_mode": {
    "name": "ipython",
    "version": 3
   },
   "file_extension": ".py",
   "mimetype": "text/x-python",
   "name": "python",
   "nbconvert_exporter": "python",
   "pygments_lexer": "ipython3",
   "version": "3.8.10"
  },
  "orig_nbformat": 4,
  "vscode": {
   "interpreter": {
    "hash": "e7370f93d1d0cde622a1f8e1c04877d8463912d04d973331ad4851f04de6915a"
   }
  }
 },
 "nbformat": 4,
 "nbformat_minor": 2
}
